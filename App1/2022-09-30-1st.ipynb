{
 "cells": [
  {
   "cell_type": "markdown",
   "metadata": {},
   "source": [
    "---\n",
    "title:  \"folium 기초\"\n",
    "# categories:\n",
    "#   - Blog\n",
    "tags: [python, folium]\n",
    "\n",
    "# toc: true\n",
    "# toc_sticky: true\n",
    "# toc_label: \"페이지 목차\"\n",
    "---"
   ]
  },
  {
   "cell_type": "code",
   "execution_count": 11,
   "metadata": {},
   "outputs": [],
   "source": [
    "import folium\n",
    "\n",
    "# STV-V 타워\n",
    "map = folium.Map(location=[37.477235, 126.883839], zoom_start=13, tiles=\"Stamen Terrain\")\n",
    "map.save(\"Map1.html\")"
   ]
  }
 ],
 "metadata": {
  "kernelspec": {
   "display_name": "Python 3.10.7 ('.venv': venv)",
   "language": "python",
   "name": "python3"
  },
  "language_info": {
   "codemirror_mode": {
    "name": "ipython",
    "version": 3
   },
   "file_extension": ".py",
   "mimetype": "text/x-python",
   "name": "python",
   "nbconvert_exporter": "python",
   "pygments_lexer": "ipython3",
   "version": "3.10.7"
  },
  "orig_nbformat": 4,
  "vscode": {
   "interpreter": {
    "hash": "9ea11279c795dfbbb8a61f11e83bd5e0792ea25128b76a3713a5ff7ebe691a85"
   }
  }
 },
 "nbformat": 4,
 "nbformat_minor": 2
}
