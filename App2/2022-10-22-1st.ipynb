{
 "cells": [
  {
   "cell_type": "markdown",
   "metadata": {},
   "source": [
    "---\n",
    "title:  \"움직임 감지\"\n",
    "# categories:\n",
    "#   - Blog\n",
    "tags: [python, opencv]\n",
    "\n",
    "# toc: true\n",
    "# toc_sticky: true\n",
    "# toc_label: \"페이지 목차\"\n",
    "---"
   ]
  },
  {
   "cell_type": "code",
   "execution_count": null,
   "metadata": {},
   "outputs": [],
   "source": [
    "import cv2\n",
    "\n",
    "first_frame = None\n",
    "video = cv2.VideoCapture(0)\n",
    "\n",
    "while True:\n",
    "    check, frame = video.read()\n",
    "\n",
    "    gray = cv2.cvtColor(frame, cv2.COLOR_BGR2GRAY)\n",
    "    gray = cv2.GaussianBlur(gray, (21,21), 0)\n",
    "    \n",
    "    if first_frame is None:\n",
    "        first_frame = gray\n",
    "        continue\n",
    "        \n",
    "    delta_frame = cv2.absdiff(first_frame, gray)\n",
    "    thresh_frame = cv2.threshold(delta_frame, 30, 255, cv2.THRESH_BINARY)[1]\n",
    "    thresh_frame = cv2.dilate(thresh_frame, None, iterations = 2)\n",
    "    (cnts, _) = cv2.findContours(thresh_frame.copy(), \n",
    "                                 cv2.RETR_EXTERNAL, \n",
    "                                 cv2.CHAIN_APPROX_SIMPLE)\n",
    "    \n",
    "    for contour in cnts:\n",
    "        if cv2.contourArea(contour) < 10000:\n",
    "            continue\n",
    "        \n",
    "        (x, y, w, h) = cv2.boundingRect(contour)\n",
    "        cv2.rectangle(frame, (x,y),(x+w, y+h),(0,255,0), 3)\n",
    "        \n",
    "    cv2.imshow(\"Gray\", gray)\n",
    "    cv2.imshow(\"Delta\", delta_frame)\n",
    "    cv2.imshow(\"Thread\", thresh_frame)\n",
    "    cv2.imshow(\"Color\", frame)\n",
    "    \n",
    "\n",
    "    \n",
    "    key = cv2.waitKey(1)\n",
    "    \n",
    "    if key == ord('q'):\n",
    "        break\n",
    "    \n",
    "video.release()\n",
    "cv2.destroyAllWindows()"
   ]
  },
  {
   "cell_type": "code",
   "execution_count": null,
   "metadata": {},
   "outputs": [],
   "source": []
  }
 ],
 "metadata": {
  "kernelspec": {
   "display_name": "Python 3 (ipykernel)",
   "language": "python",
   "name": "python3"
  },
  "language_info": {
   "codemirror_mode": {
    "name": "ipython",
    "version": 3
   },
   "file_extension": ".py",
   "mimetype": "text/x-python",
   "name": "python",
   "nbconvert_exporter": "python",
   "pygments_lexer": "ipython3",
   "version": "3.10.5"
  },
  "vscode": {
   "interpreter": {
    "hash": "2cf372d4f72ed5ff4ed153567b5d2f75376c33d68033f92a766673b7ddf6a911"
   }
  }
 },
 "nbformat": 4,
 "nbformat_minor": 2
}
